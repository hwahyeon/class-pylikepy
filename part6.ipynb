{
 "cells": [
  {
   "cell_type": "markdown",
   "metadata": {},
   "source": [
    "### **파트6. Itertools / Collections 모듈**"
   ]
  },
  {
   "cell_type": "markdown",
   "metadata": {},
   "source": [
    "#### **곱집합(Cartesian product) 구하기 - product**\n",
    "\n",
    "이번 강의에서는 iterable으로 곱집합을 구하는 방법을 알아봅니다.\n",
    "\n",
    "\n",
    "예시) 두 스트링 'ABCD', 'xy' 의 곱집합은 Ax Ay Bx By Cx Cy Dx Dy 입니다.\n"
   ]
  },
  {
   "cell_type": "code",
   "execution_count": 1,
   "metadata": {},
   "outputs": [
    {
     "name": "stdout",
     "output_type": "stream",
     "text": [
      "A x 1\n",
      "A x 2\n",
      "A x 3\n",
      "A x 4\n",
      "A y 1\n",
      "A y 2\n",
      "A y 3\n",
      "A y 4\n",
      "B x 1\n",
      "B x 2\n",
      "B x 3\n",
      "B x 4\n",
      "B y 1\n",
      "B y 2\n",
      "B y 3\n",
      "B y 4\n",
      "C x 1\n",
      "C x 2\n",
      "C x 3\n",
      "C x 4\n",
      "C y 1\n",
      "C y 2\n",
      "C y 3\n",
      "C y 4\n",
      "D x 1\n",
      "D x 2\n",
      "D x 3\n",
      "D x 4\n",
      "D y 1\n",
      "D y 2\n",
      "D y 3\n",
      "D y 4\n"
     ]
    }
   ],
   "source": [
    "# Before\n",
    "\n",
    "iterable1 = 'ABCD'\n",
    "iterable2 = 'xy'\n",
    "iterable3 = '1234'\n",
    "\n",
    "for value1 in iterable1:\n",
    "    for value2 in iterable2:\n",
    "        for value3 in iterable3:\n",
    "            print(value1, value2, value3)"
   ]
  },
  {
   "cell_type": "code",
   "execution_count": 2,
   "metadata": {},
   "outputs": [
    {
     "name": "stdout",
     "output_type": "stream",
     "text": [
      "[('A', 'x', '1'), ('A', 'x', '2'), ('A', 'x', '3'), ('A', 'x', '4'), ('A', 'y', '1'), ('A', 'y', '2'), ('A', 'y', '3'), ('A', 'y', '4'), ('B', 'x', '1'), ('B', 'x', '2'), ('B', 'x', '3'), ('B', 'x', '4'), ('B', 'y', '1'), ('B', 'y', '2'), ('B', 'y', '3'), ('B', 'y', '4'), ('C', 'x', '1'), ('C', 'x', '2'), ('C', 'x', '3'), ('C', 'x', '4'), ('C', 'y', '1'), ('C', 'y', '2'), ('C', 'y', '3'), ('C', 'y', '4'), ('D', 'x', '1'), ('D', 'x', '2'), ('D', 'x', '3'), ('D', 'x', '4'), ('D', 'y', '1'), ('D', 'y', '2'), ('D', 'y', '3'), ('D', 'y', '4')]\n"
     ]
    }
   ],
   "source": [
    "# After // itertools.product를 이용하면, for 문을 사용하지 않고도 곱집합을 구할 수 있습니다.\n",
    "import itertools\n",
    "\n",
    "iterable1 = 'ABCD'\n",
    "iterable2 = 'xy'\n",
    "iterable3 = '1234'\n",
    "print(list(itertools.product(iterable1, iterable2, iterable3)))"
   ]
  },
  {
   "cell_type": "markdown",
   "metadata": {},
   "source": [
    "product는 str형이 아닌 tuple 형으로 cartesian product를 한다. product는 들어온 iterable을 하나하나, 차례로 순회한 짝을 리턴하는 함수이지 그 짝을 붙여주는 함수는 아니다."
   ]
  },
  {
   "cell_type": "code",
   "execution_count": 3,
   "metadata": {},
   "outputs": [
    {
     "name": "stdout",
     "output_type": "stream",
     "text": [
      "(1, 3) (1, 4) (1, 5) (1, 6) (2, 3) (2, 4) (2, 5) (2, 6) (3, 3) (3, 4) (3, 5) (3, 6) (4, 3) (4, 4) (4, 5) (4, 6)\n"
     ]
    }
   ],
   "source": [
    "iterable1 = [1,2,3,4]\n",
    "iterable2 = [3,4,5,6]\n",
    "print(*(itertools.product(iterable1, iterable2)))"
   ]
  },
  {
   "cell_type": "code",
   "execution_count": 4,
   "metadata": {},
   "outputs": [
    {
     "data": {
      "text/plain": [
       "['Ax', 'Ay', 'Bx', 'By', 'Cx', 'Cy', 'Dx', 'Dy']"
      ]
     },
     "execution_count": 4,
     "metadata": {},
     "output_type": "execute_result"
    }
   ],
   "source": [
    "iterable1 = 'ABCD'\n",
    "iterable2 = 'xy'\n",
    "[ ''.join(i) for i in itertools.product(iterable1, iterable2) ]"
   ]
  },
  {
   "cell_type": "markdown",
   "metadata": {},
   "source": [
    "python document - itertools.product에 따르면,\n",
    "product(A, B)는 ((x,y) for x in A for y in B) 형태를 만든다고 한다."
   ]
  },
  {
   "cell_type": "markdown",
   "metadata": {},
   "source": [
    "#### **2차원 리스트를 1차원 리스트로 만들기**\n",
    "문자열을 담은 이차원 리스트, mylist 가 solution 함수의 파라미터로 주어집니다. solution 함수가 mylist를 일차원 리스트로 만들어 리턴하도록 코드를 작성해주세요."
   ]
  },
  {
   "cell_type": "code",
   "execution_count": 6,
   "metadata": {},
   "outputs": [],
   "source": [
    "def solution(mylist):\n",
    "    return sum(mylist, [])"
   ]
  },
  {
   "cell_type": "code",
   "execution_count": 7,
   "metadata": {},
   "outputs": [
    {
     "data": {
      "text/plain": [
       "[1, 2, 3, 4, 5, 6]"
      ]
     },
     "execution_count": 7,
     "metadata": {},
     "output_type": "execute_result"
    }
   ],
   "source": [
    "my_list = [[1, 2], [3, 4], [5, 6]]\n",
    "\n",
    "# 방법 1 - sum 함수\n",
    "answer = sum(my_list, [])\n",
    "\n",
    "# 방법 2 - itertools.chain\n",
    "import itertools\n",
    "list(itertools.chain.from_iterable(my_list))\n",
    "\n",
    "# 방법 3 - itertools와 unpacking\n",
    "import itertools\n",
    "list(itertools.chain(*my_list))\n",
    "\n",
    "# 방법 4 - list comprehension 이용\n",
    "[element for array in my_list for element in array]\n",
    "\n",
    "# 방법 5 - reduce 함수 이용 1\n",
    "from functools import reduce\n",
    "list(reduce(lambda x, y: x+y, my_list))\n",
    "\n",
    "# 방법 6 - reduce 함수 이용 2\n",
    "from functools import reduce\n",
    "import operator\n",
    "list(reduce(operator.add, my_list))\n",
    "\n",
    "# 제한적인 방법 (각 원소의 길이가 동일한 경우에만 사용 가능)\n",
    "# 방법 7 - numpy 라이브러리의 flatten 이용\n",
    "import numpy as np\n",
    "np.array(my_list).flatten().tolist()"
   ]
  },
  {
   "cell_type": "markdown",
   "metadata": {},
   "source": [
    "sum(iterable[, start])\n",
    "\n",
    "start 및 iterable 의 항목들을 왼쪽에서 오른쪽으로 합하고 합계를 돌려줍니다. start 의 기본값은 0 입니다. iterable 의 항목은 일반적으로 숫자며 시작 값은 문자열이 될 수 없습니다.\n",
    "\n",
    "즉, sum([1,2,3])을 호출하면\n",
    "\n",
    "1. start(=0) + 1 + 2 + 3 을 계산해\n",
    "2. 6을 리턴합니다.\n",
    "\n",
    "sum([[1,2],[3,4],[5,6]], [])을 호출하면\n",
    "\n",
    "1. start(=[]) + [1,2] + [3,4] + [5,6]을 계산해\n",
    "2. [1,2,3,4,5,6]을 리턴합니다."
   ]
  },
  {
   "cell_type": "markdown",
   "metadata": {},
   "source": [
    "itertools는 파이썬의 표준 라이브러리이므로, 모든 플랫폼에서 사용 가능하나, numpy는 엄밀히 말하면 third party library이므로, numpy 지원여부는 플랫폼마다 다르다.\n",
    "\n"
   ]
  },
  {
   "cell_type": "markdown",
   "metadata": {},
   "source": [
    "#### **순열과 조합 - combinations, permutations**\n",
    "\n",
    "예시)\n",
    "1,2,3의 숫자가 적힌 카드가 있을 때, 이 중 두 장을 꺼내는 경우의 수 -> 12, 13, 21, 23, 31, 32\n",
    "\n",
    "'A', 'B', 'C'로 만들 수 있는 경우의 수 -> 'ABC', 'ACB', 'BAC', 'BCA', 'CAB', 'CBA'"
   ]
  },
  {
   "cell_type": "markdown",
   "metadata": {},
   "source": [
    "문제 설명\n",
    "\n",
    "숫자를 담은 일차원 리스트, mylist에 대해 mylist의 원소로 이루어진 모든 순열을 사전순으로 리턴하는 함수 solution을 완성해주세요.\n",
    "\n",
    "\n",
    "제한 조건\n",
    "\n",
    "mylist 의 길이는 1 이상 100 이하인 자연수입니다."
   ]
  },
  {
   "cell_type": "code",
   "execution_count": 8,
   "metadata": {},
   "outputs": [],
   "source": [
    "from itertools import permutations\n",
    "\n",
    "def solution(mylist):\n",
    "    return sorted(list(permutations(mylist, len(mylist))))"
   ]
  },
  {
   "cell_type": "code",
   "execution_count": 9,
   "metadata": {},
   "outputs": [],
   "source": [
    "#Before\n",
    "def permute(arr):\n",
    "    result = [arr[:]]\n",
    "    c = [0] * len(arr)\n",
    "    i = 0\n",
    "    while i < len(arr):\n",
    "        if c[i] < i:\n",
    "            if i % 2 == 0:\n",
    "                arr[0], arr[i] = arr[i], arr[0]\n",
    "            else:\n",
    "                arr[c[i]], arr[i] = arr[i], arr[c[i]]\n",
    "            result.append(arr[:])\n",
    "            c[i] += 1\n",
    "            i = 0\n",
    "        else:\n",
    "            c[i] = 0\n",
    "            i += 1\n",
    "    return result"
   ]
  },
  {
   "cell_type": "code",
   "execution_count": 10,
   "metadata": {},
   "outputs": [
    {
     "name": "stdout",
     "output_type": "stream",
     "text": [
      "['ABC', 'ACB', 'BAC', 'BCA', 'CAB', 'CBA']\n",
      "['AB', 'AC', 'BA', 'BC', 'CA', 'CB']\n"
     ]
    }
   ],
   "source": [
    "#After\n",
    "import itertools\n",
    "\n",
    "pool = ['A', 'B', 'C']\n",
    "print(list(map(''.join, itertools.permutations(pool)))) # 3개의 원소로 수열 만들기\n",
    "print(list(map(''.join, itertools.permutations(pool, 2)))) # 2개의 원소로 수열 만들기"
   ]
  },
  {
   "cell_type": "markdown",
   "metadata": {},
   "source": [
    "#### **가장 많이 등장하는 알파벳 찾기**\n",
    "**문제 설명**\n",
    "\n",
    "이 문제에는 표준 입력으로 문자열, mystr이 주어집니다. mystr에서 가장 많이 등장하는 알파벳만을 사전 순으로 출력하는 코드를 작성해주세요.\n",
    "\n",
    "\n",
    "**제한 조건**\n",
    "\n",
    "mystr의 원소는 알파벳 소문자로만 주어집니다.\n",
    "\n",
    "mystr의 길이는 1 이상 100 이하입니다."
   ]
  },
  {
   "cell_type": "code",
   "execution_count": 13,
   "metadata": {},
   "outputs": [
    {
     "name": "stdout",
     "output_type": "stream",
     "text": [
      "abcde\n"
     ]
    }
   ],
   "source": [
    "from collections import Counter\n",
    "\n",
    "mylist = input().strip()\n",
    "dic = dict(Counter(mylist))\n",
    "\n",
    "values = [i for i in dic.values()]\n",
    "values = sorted(values, reverse=True)\n",
    "\n",
    "big = values[0]\n",
    "\n",
    "result = [i for i, k in dic.items() if big == k] # 가장 많이 나온 알파벳 모두를 추출 \n",
    "result = ''.join(sorted(result)) # (알파벳 순서대로 정렬)\n",
    "print(result)"
   ]
  },
  {
   "cell_type": "code",
   "execution_count": 12,
   "metadata": {},
   "outputs": [
    {
     "name": "stdout",
     "output_type": "stream",
     "text": [
      "4\n",
      "3\n",
      "0\n"
     ]
    }
   ],
   "source": [
    "import collections\n",
    "my_list = [1, 2, 3, 4, 5, 6, 7, 8, 7, 9, 1, 2, 3, 3, 5, 2, 6, 8, 9, 0, 1, 1, 4, 7, 0]\n",
    "answer = collections.Counter(my_list)\n",
    "\n",
    "print(answer[1]) # = 4\n",
    "print(answer[3])  # = 3\n",
    "print(answer[100]) # = 0"
   ]
  }
 ],
 "metadata": {
  "kernelspec": {
   "display_name": "Python 3",
   "language": "python",
   "name": "python3"
  },
  "language_info": {
   "codemirror_mode": {
    "name": "ipython",
    "version": 3
   },
   "file_extension": ".py",
   "mimetype": "text/x-python",
   "name": "python",
   "nbconvert_exporter": "python",
   "pygments_lexer": "ipython3",
   "version": "3.10.11"
  },
  "orig_nbformat": 4
 },
 "nbformat": 4,
 "nbformat_minor": 2
}

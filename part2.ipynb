{
 "cells": [
  {
   "cell_type": "markdown",
   "metadata": {},
   "source": [
    "### **파트2. 정수 다루기**"
   ]
  },
  {
   "cell_type": "markdown",
   "metadata": {},
   "source": [
    "#### **몫과 나머지 - divmod**\n",
    "\n",
    "#### 문제 설명\n",
    "숫자 a, b가 주어졌을 때 a를 b로 나눈 몫과 a를 b로 나눈 나머지를 공백으로 구분해 출력해보세요.\n",
    "\n",
    "#### 입력 설명\n",
    "입력으로는 공백으로 구분된 숫자가 두 개 주어집니다.\n",
    "첫 번째 숫자는 a를 나타내며, 두 번째 숫자는 b를 나타냅니다.\n",
    "\n",
    "#### 출력 설명\n",
    "a를 b로 나눈 몫과 a를 b로 나눈 나머지를 공백으로 구분해 출력하세요.\n",
    "\n",
    "#### 제한 조건\n",
    "a와 b는 자연수입니다."
   ]
  },
  {
   "cell_type": "code",
   "execution_count": 3,
   "metadata": {},
   "outputs": [
    {
     "name": "stdout",
     "output_type": "stream",
     "text": [
      "1 2\n"
     ]
    }
   ],
   "source": [
    "# Before\n",
    "a, b = map(int, input().strip().split(' '))\n",
    "print((a//b), (a%b))\n",
    "\n",
    "# input 5 3 / output 1 2"
   ]
  },
  {
   "cell_type": "code",
   "execution_count": 4,
   "metadata": {},
   "outputs": [
    {
     "name": "stdout",
     "output_type": "stream",
     "text": [
      "1 2\n"
     ]
    }
   ],
   "source": [
    "# After\n",
    "a = 5\n",
    "b = 3\n",
    "print(*divmod(a, b))"
   ]
  },
  {
   "cell_type": "markdown",
   "metadata": {},
   "source": [
    "divmod는 작은 숫자를 다룰 때 a//b, a%b 보다 느립니다. 대신, 큰 숫자를 다룰 때는 전자가 후자보다 더 빠르지요."
   ]
  },
  {
   "cell_type": "markdown",
   "metadata": {},
   "source": [
    "#### **n진법으로 표기된 string을 10진법 숫자로 변환하기 - int 함수**\n",
    "\n",
    "#### 문제 설명\n",
    "base 진법으로 표기된 숫자를 10진법 숫자 출력해보세요.\n",
    "\n",
    "#### 입력 설명\n",
    "입력으로는 공백으로 구분된 숫자가 두 개 주어집니다.\n",
    "첫 번째 숫자는 num을 나타내며, 두 번째 숫자는 base를 나타냅니다.\n",
    "\n",
    "#### 출력 설명\n",
    "base 진법으로 표기된 num을 10진법 숫자로 출력해보세요.\n",
    "\n",
    "#### 제한 조건\n",
    "base는 10 이하인 자연수입니다.\n",
    "num은 3000 이하인 자연수입니다."
   ]
  },
  {
   "cell_type": "code",
   "execution_count": 5,
   "metadata": {},
   "outputs": [
    {
     "name": "stdout",
     "output_type": "stream",
     "text": [
      "5\n"
     ]
    }
   ],
   "source": [
    "num, base = map(int, input().strip().split(' '))\n",
    "print(int(str(num), base))\n",
    "\n",
    "# input 12 3 / output 5"
   ]
  },
  {
   "cell_type": "markdown",
   "metadata": {},
   "source": [
    "파이썬의 int(x, base=10) 함수는 진법 변환을 지원합니다.\n",
    "\n",
    "int 함수의 첫번째 파라미터는 문자열 또는 숫자 형식이어야 합니다.\n",
    "단, 두번쨰 파라미터를 입력하려는 경우에는 첫번째 파라미터는 문자열 형식이어야해요.\n",
    "\n",
    "#### 가능\n",
    "int(99)\n",
    "int(99.9)\n",
    "int('99')\n",
    "int('99', 11)\n",
    "\n",
    "#### 불가능\n",
    "int(99, 11)\n",
    "\n",
    "int() 함수의 2번째 인자인 base는 정수형이어야합니다.\n",
    "\n",
    "if base is given, then x must be a string, bytes, or bytearray instance representing an integer literal in radix base\n",
    "\n",
    "base를 명시했다면 x는 string, bytes, bytearray 형식이어야합니다.\n"
   ]
  }
 ],
 "metadata": {
  "kernelspec": {
   "display_name": "Python 3",
   "language": "python",
   "name": "python3"
  },
  "language_info": {
   "codemirror_mode": {
    "name": "ipython",
    "version": 3
   },
   "file_extension": ".py",
   "mimetype": "text/x-python",
   "name": "python",
   "nbconvert_exporter": "python",
   "pygments_lexer": "ipython3",
   "version": "3.10.11"
  },
  "orig_nbformat": 4
 },
 "nbformat": 4,
 "nbformat_minor": 2
}

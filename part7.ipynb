{
  "cells": [
    {
      "cell_type": "markdown",
      "metadata": {
        "id": "Lk1WcCYb15bW"
      },
      "source": [
        "### **파트7. 기타**"
      ]
    },
    {
      "cell_type": "markdown",
      "metadata": {
        "id": "EHh1c5wBqiVE"
      },
      "source": [
        "#### **list comprehension**"
      ]
    },
    {
      "cell_type": "code",
      "execution_count": 1,
      "metadata": {
        "id": "mh90JfhMqLev"
      },
      "outputs": [],
      "source": [
        "mylist = [3, 2, 6, 7]\n",
        "answer = []\n",
        "for number in mylist:\n",
        "    if number % 2 == 0:\n",
        "        answer.append(number**2) # 들여쓰기를 두 번 함"
      ]
    },
    {
      "cell_type": "code",
      "execution_count": 2,
      "metadata": {
        "id": "1ujrNGAeqNaM"
      },
      "outputs": [],
      "source": [
        "mylist = [3, 2, 6, 7]\n",
        "answer = [number**2 for number in mylist if number % 2 == 0]\n",
        "\n",
        "# 파이썬의 list comprehension을 사용하면 한 줄 에 for, if문 처리 한 번에 가능"
      ]
    },
    {
      "cell_type": "markdown",
      "metadata": {
        "id": "TVEVm-Qqqkq0"
      },
      "source": [
        "숫자를 차례로 곱해 나온 수가 제곱수1가 되면 found를 출력하고 모든 수를 곱해도 제곱수가 나오지 않았다면 not found를 출력하는 코드 작성"
      ]
    },
    {
      "cell_type": "code",
      "execution_count": null,
      "metadata": {
        "id": "Ypg4JKRHq39n"
      },
      "outputs": [],
      "source": [
        "# 내 코드\n",
        "\n",
        "str_ = ''\n",
        "n = 1\n",
        "for i in range(5):\n",
        "    f = int(input())\n",
        "    n *= f\n",
        "    if n**0.5 == int(n**0.5):\n",
        "        print('found')\n",
        "        break\n",
        "    else:\n",
        "        str_ += '*'\n",
        "if len(str_) == 5:\n",
        "     print('not found')"
      ]
    },
    {
      "cell_type": "markdown",
      "metadata": {
        "id": "xw99zqVWuJm5"
      },
      "source": [
        "#### **파이썬 for-else 문**"
      ]
    },
    {
      "cell_type": "code",
      "execution_count": null,
      "metadata": {
        "id": "cqMMegoMq35C"
      },
      "outputs": [],
      "source": [
        "# Before\n",
        "\n",
        "import math\n",
        "\n",
        "if __name__ == '__main__':\n",
        "    numbers = [int(input()) for _ in range(5)]\n",
        "    multiplied = 1\n",
        "    flag = True\n",
        "    for number in numbers:\n",
        "        multiplied *= number\n",
        "        if math.sqrt(multiplied) == int(math.sqrt(multiplied)):\n",
        "            flag = False\n",
        "            print('found')\n",
        "            break\n",
        "\n",
        "    if flag:\n",
        "        print('not found')"
      ]
    },
    {
      "cell_type": "code",
      "execution_count": null,
      "metadata": {
        "id": "nbxAozqduD16"
      },
      "outputs": [],
      "source": [
        "# After \n",
        "\n",
        "import math\n",
        "\n",
        "if __name__ == '__main__':\n",
        "    numbers = [int(input()) for _ in range(5)]\n",
        "    multiplied = 1\n",
        "    for number in numbers:\n",
        "        multiplied *= number\n",
        "        if math.sqrt(multiplied) == int(math.sqrt(multiplied)):\n",
        "            print('found')\n",
        "            break\n",
        "    else:\n",
        "        print('not found')"
      ]
    },
    {
      "cell_type": "code",
      "execution_count": null,
      "metadata": {
        "id": "kZKgBpEiuRh_"
      },
      "outputs": [],
      "source": [
        "# 내 코드 수정\n",
        "\n",
        "n = 1\n",
        "for i in range(5):\n",
        "    f = int(input())\n",
        "    n *= f\n",
        "    if n**0.5 == int(n**0.5):\n",
        "        print('found')\n",
        "        break\n",
        "else:\n",
        "    print('not found')"
      ]
    },
    {
      "cell_type": "code",
      "execution_count": null,
      "metadata": {
        "id": "hiGDpFhd1V_6"
      },
      "outputs": [],
      "source": [
        "def solution(mylist):\n",
        "    answer = []\n",
        "    for i in mylist:\n",
        "        if (i % 2) == 0:\n",
        "            answer.append(i**2)\n",
        "    return answer"
      ]
    },
    {
      "cell_type": "markdown",
      "metadata": {
        "id": "PMpz9fF3ujvR"
      },
      "source": [
        "#### **두 변수의 값 바꾸기**"
      ]
    },
    {
      "cell_type": "code",
      "execution_count": 8,
      "metadata": {
        "id": "NYSzqN4dulNC"
      },
      "outputs": [],
      "source": [
        "# Before\n",
        "\n",
        "a = 3\n",
        "b = 'abc'\n",
        "\n",
        "temp = a\n",
        "a = b\n",
        "b = temp"
      ]
    },
    {
      "cell_type": "code",
      "execution_count": 9,
      "metadata": {
        "id": "lqvP85vrupGG"
      },
      "outputs": [],
      "source": [
        "# After\n",
        "\n",
        "a = 3\n",
        "b = 'abc'\n",
        "\n",
        "a, b = b, a"
      ]
    },
    {
      "cell_type": "markdown",
      "metadata": {
        "id": "9BPFfk6Mu1gI"
      },
      "source": [
        "#### **이진 탐색하기**\n",
        "\n",
        "index 함수는 이진 탐색이 아닌 선형 탐색 함수.\n",
        "\n",
        "이진탐색은 O(log N)\n",
        "\n",
        "선형탐색은 O(N)\n",
        "\n",
        "\n",
        "key값이 없으면 해당 key값이 들어갈 위치를 반환."
      ]
    },
    {
      "cell_type": "code",
      "execution_count": 10,
      "metadata": {
        "colab": {
          "base_uri": "https://localhost:8080/"
        },
        "id": "G9LehsnGu4tV",
        "outputId": "b5d6539c-8af3-47e7-94c1-97ee86b908a6"
      },
      "outputs": [
        {
          "name": "stdout",
          "output_type": "stream",
          "text": [
            "6\n"
          ]
        }
      ],
      "source": [
        "# Before\n",
        "\n",
        "def bisect(a, x, lo=0, hi=None):\n",
        "    if lo < 0:\n",
        "        raise ValueError('lo must be non-negative')\n",
        "    if hi is None:\n",
        "        hi = len(a)\n",
        "    while lo < hi:\n",
        "        mid = (lo + hi) // 2\n",
        "        if a[mid] < x:\n",
        "            lo = mid + 1\n",
        "        else:\n",
        "            hi = mid\n",
        "    return lo\n",
        "\n",
        "mylist = [1, 2, 3, 7, 9, 11, 33]\n",
        "print(bisect(mylist, 23))"
      ]
    },
    {
      "cell_type": "code",
      "execution_count": 11,
      "metadata": {
        "colab": {
          "base_uri": "https://localhost:8080/"
        },
        "id": "CevqPLAKvhHy",
        "outputId": "27576ff0-f734-42f4-fc6f-90e798d7e13c"
      },
      "outputs": [
        {
          "name": "stdout",
          "output_type": "stream",
          "text": [
            "6\n"
          ]
        }
      ],
      "source": [
        "# After\n",
        "\n",
        "import bisect\n",
        "mylist = [1, 2, 3, 7, 9, 11, 33]\n",
        "print(bisect.bisect(mylist, 11))"
      ]
    },
    {
      "cell_type": "markdown",
      "metadata": {
        "id": "S-bBNHg1u4LD"
      },
      "source": [
        "#### **클래스 인스턴스 출력하기 - class의 자동 string casting**"
      ]
    },
    {
      "cell_type": "code",
      "execution_count": 12,
      "metadata": {
        "id": "-F6Z181kwx2R"
      },
      "outputs": [
        {
          "name": "stdout",
          "output_type": "stream",
          "text": [
            "(1, 2)\n",
            "(1, 2)\n"
          ]
        }
      ],
      "source": [
        "# 보통은 클래스 바깥에 출력 함수를 만들거나, print 문 안에서 format을 지정.\n",
        "\n",
        "class Coord(object):\n",
        "    def __init__(self, x, y):\n",
        "        self.x, self.y = x, y\n",
        "\n",
        "point = Coord(1, 2)\n",
        "print( '({}, {})'.format(point.x, point.y) ) \n",
        "\n",
        "# 또는\n",
        "def print_coord(coord):\n",
        "    print( '({}, {})'.format(coord.x, coord.y) )\n",
        "print_coord(point)"
      ]
    },
    {
      "cell_type": "code",
      "execution_count": 13,
      "metadata": {
        "id": "SZ0mn1Yaw3Ir"
      },
      "outputs": [],
      "source": [
        "# 파이썬에서는 __str__ 메소드를 사용해 class 내부에서 출력 format을 지정 가능\n",
        "\n",
        "class Coord(object):\n",
        "    def __init__ (self, x, y):\n",
        "        self.x, self.y = x, y\n",
        "    def __str__ (self):\n",
        "        return '({}, {})'.format(self.x, self.y)\n",
        "\n",
        "point = Coord(1, 2)"
      ]
    },
    {
      "cell_type": "markdown",
      "metadata": {
        "id": "T9D2svrzCKps"
      },
      "source": [
        "#### **가장 큰 수, inf**\n",
        "\n",
        "코딩 테스트 문제 등을 풀다 보면, 최솟값을 저장하는 변수에 아주 큰 값을 할당해야 할 때가 있다. inf는 어떤 숫자와 비교해도 무조건 크다고 판정된다."
      ]
    },
    {
      "cell_type": "code",
      "execution_count": null,
      "metadata": {
        "colab": {
          "base_uri": "https://localhost:8080/"
        },
        "id": "E7mdgWUFCeZI",
        "outputId": "b121ea5e-2769-450e-e101-f01a4119ada9"
      },
      "outputs": [
        {
          "data": {
            "text/plain": [
              "True"
            ]
          },
          "execution_count": 1,
          "metadata": {},
          "output_type": "execute_result"
        }
      ],
      "source": [
        "min_val = float('inf')\n",
        "min_val > 10000000000"
      ]
    },
    {
      "cell_type": "code",
      "execution_count": null,
      "metadata": {
        "id": "MT1zWkhsClP9"
      },
      "outputs": [],
      "source": [
        "# 음수도 가능\n",
        "max_val = float('-inf')"
      ]
    },
    {
      "cell_type": "markdown",
      "metadata": {
        "id": "mtqziCidBqiZ"
      },
      "source": [
        "#### **파일 입출력 간단하게 하기**\n",
        "'myfile.txt'라는 이름의 파일을 읽는 코드 짜기"
      ]
    },
    {
      "cell_type": "code",
      "execution_count": null,
      "metadata": {
        "id": "kLKdDBM0Buum"
      },
      "outputs": [],
      "source": [
        "# 다른 언어에서는 EOF를 만날 때까지 파일 읽기를 반복함.\n",
        "f = open('myfile.txt', 'r')\n",
        "while True:\n",
        "    line = f.readline()\n",
        "    if not line: \n",
        "        break\n",
        "    raw = line.split()\n",
        "    print(raw)\n",
        "f.close()"
      ]
    },
    {
      "cell_type": "code",
      "execution_count": null,
      "metadata": {
        "id": "H7j5koePB3zG"
      },
      "outputs": [],
      "source": [
        "# 파이썬\n",
        "with open('myfile.txt') as file:\n",
        "    for line in file.readlines():\n",
        "        print(line.strip().split('\\t'))"
      ]
    },
    {
      "cell_type": "markdown",
      "metadata": {
        "id": "yVlzJsXoB7eJ"
      },
      "source": [
        "파이썬의 with - as 구문을 이용하면 코드를 더 간결하게 짤 수 있다. 코드를 아래와 같이 쓰면 다음과 같은 장점이 있다.\n",
        "\n",
        "1. 파일을 close 하지 않아도 된다: with - as 블록이 종료되면 파일이 자동으로 close 됨.\n",
        "2. readlines가 EOF까지만 읽으므로, while 문 안에서 EOF를 체크할 필요가 없다.\n",
        "\n",
        "⨳ with - as 구문은 파일 뿐만 아니라 socket이나 http 등에서도 사용할 수 있다."
      ]
    }
  ],
  "metadata": {
    "colab": {
      "authorship_tag": "ABX9TyNSWJNKpKdpOlck3xSU3N4x",
      "collapsed_sections": [],
      "include_colab_link": true,
      "name": "Python.ipynb",
      "provenance": []
    },
    "kernelspec": {
      "display_name": "Python 3",
      "name": "python3"
    },
    "language_info": {
      "codemirror_mode": {
        "name": "ipython",
        "version": 3
      },
      "file_extension": ".py",
      "mimetype": "text/x-python",
      "name": "python",
      "nbconvert_exporter": "python",
      "pygments_lexer": "ipython3",
      "version": "3.10.11"
    }
  },
  "nbformat": 4,
  "nbformat_minor": 0
}

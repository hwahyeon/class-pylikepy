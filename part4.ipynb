{
 "cells": [
  {
   "cell_type": "markdown",
   "metadata": {},
   "source": [
    "### **파트4. Iterable 다루기**"
   ]
  },
  {
   "cell_type": "markdown",
   "metadata": {},
   "source": [
    "#### **원본을 유지한채, 정렬된 리스트 구하기 - sorted**\n",
    "파이썬의 sort() 함수를 사용하면 리스트의 원소를 정렬할 수 있습니다. 이때, sort 함수는 원본의 멤버 순서를 변경하지요."
   ]
  },
  {
   "cell_type": "code",
   "execution_count": 1,
   "metadata": {},
   "outputs": [
    {
     "name": "stdout",
     "output_type": "stream",
     "text": [
      "[1, 2, 3, 4, 5, 6, 7]\n"
     ]
    }
   ],
   "source": [
    "list1 = [4, 5, 6, 3, 2, 1, 7]\n",
    "list2 = sorted(list1)\n",
    "print(list2)"
   ]
  },
  {
   "cell_type": "markdown",
   "metadata": {},
   "source": [
    "#### **2차원 리스트 뒤집기**\n",
    "\n",
    "다음을 만족하는 함수, solution을 완성해주세요.\n",
    "\n",
    "solution 함수는 이차원 리스트, mylist를 인자로 받습니다\n",
    "solution 함수는 mylist 원소의 행과 열을 뒤집은 한 값을 리턴해야합니다.\n",
    "예를 들어 mylist [[1, 2, 3], [4, 5, 6], [7, 8, 9]]가 주어진 경우, solution 함수는 [[1, 4, 7], [2, 5, 8], [3, 6, 9]] 을 리턴하면 됩니다."
   ]
  },
  {
   "cell_type": "code",
   "execution_count": 2,
   "metadata": {},
   "outputs": [
    {
     "data": {
      "text/plain": [
       "[[0, 1, 0, 3], [3, 1, 3, 0], [1, 3, 1, 3], [2, 4, 3, 1]]"
      ]
     },
     "execution_count": 2,
     "metadata": {},
     "output_type": "execute_result"
    }
   ],
   "source": [
    "def solution(mylist):\n",
    "    return list(map(list, zip(*mylist)))\n",
    "\n",
    "solution([[0, 3, 1, 2], [1, 1, 3, 4], [0, 3, 1, 3], [3, 0, 3, 1]])"
   ]
  },
  {
   "cell_type": "markdown",
   "metadata": {},
   "source": [
    "zip(*iterables)는 각 iterables 의 요소들을 모으는 이터레이터를 만듭니다.\n",
    "튜플의 이터레이터를 돌려주는데, i 번째 튜플은 각 인자로 전달된 시퀀스나 이터러블의 i 번째 요소를 포함합니다."
   ]
  },
  {
   "cell_type": "code",
   "execution_count": 3,
   "metadata": {},
   "outputs": [
    {
     "name": "stdout",
     "output_type": "stream",
     "text": [
      "(1, 40)\n",
      "(2, 50)\n",
      "(3, 60)\n"
     ]
    }
   ],
   "source": [
    "# ex1\n",
    "mylist = [1, 2, 3]\n",
    "new_list = [40, 50, 60]\n",
    "for i in zip(mylist, new_list):\n",
    "    print (i)"
   ]
  },
  {
   "cell_type": "code",
   "execution_count": 4,
   "metadata": {},
   "outputs": [
    {
     "name": "stdout",
     "output_type": "stream",
     "text": [
      "493\n",
      "124\n",
      "66\n",
      "305\n"
     ]
    }
   ],
   "source": [
    "# ex2\n",
    "list1 = [1, 2, 3, 4]\n",
    "list2 = [100, 120, 30, 300]\n",
    "list3 = [392, 2, 33, 1]\n",
    "answer = []\n",
    "for number1, number2, number3 in zip(list1, list2, list3):\n",
    "   print(number1 + number2 + number3)"
   ]
  },
  {
   "cell_type": "code",
   "execution_count": 5,
   "metadata": {},
   "outputs": [
    {
     "name": "stdout",
     "output_type": "stream",
     "text": [
      "{'cat': 'meow', 'dog': 'woof', 'lion': 'roar'}\n"
     ]
    }
   ],
   "source": [
    "# ex 3 Key 리스트와 Value 리스트로 딕셔너리 생성하기\n",
    "animals = ['cat', 'dog', 'lion']\n",
    "sounds = ['meow', 'woof', 'roar']\n",
    "answer = dict(zip(animals, sounds)) # {'cat': 'meow', 'dog': 'woof', 'lion': 'roar'}\n",
    "print(answer)"
   ]
  },
  {
   "cell_type": "markdown",
   "metadata": {},
   "source": [
    "#### **i번째 원소와 i+1번째 원소**\n",
    "숫자를 담은 리스트 mylist가 solution 함수의 파라미터로 주어집니다. solution 함수가 mylist의 i번째 원소와 i+1번째 원소의 차를 담은 일차원 리스트에 차례로 담아 리턴하도록 코드를 작성해주세요.\n",
    "\n",
    "단, 마지막에 있는 원소는 (마지막+1)번째의 원소와의 차를 구할 수 없으니, 이 값은 구하지 않습니다."
   ]
  },
  {
   "cell_type": "code",
   "execution_count": 6,
   "metadata": {},
   "outputs": [
    {
     "name": "stdout",
     "output_type": "stream",
     "text": [
      "[35, 35, 9, 67, 60]\n"
     ]
    }
   ],
   "source": [
    "def solution(mylist):\n",
    "    ans = []\n",
    "    for num1, num2 in zip(mylist, mylist[1:]):\n",
    "        ans.append(abs(num1 - num2))\n",
    "    return ans\n",
    "\n",
    "if __name__ == '__main__':\n",
    "    mylist = [83, 48, 13, 4, 71, 11]    \n",
    "    print(solution(mylist))"
   ]
  },
  {
   "cell_type": "markdown",
   "metadata": {},
   "source": [
    "파이썬의 zip을 이용하면 index를 사용하지 않고 각 원소에 접근할 수 있습니다.\n",
    "\n",
    "zip 함수에 서로 길이가 다른 리스트가 인자로 들어오는 경우에는 길이가 짧은 쪽 까지만 이터레이션이 이루어집니다. \n",
    "\n",
    "파이썬을 만드는 사람들이 기능을 만들 때에는 최적화를 해놓기 때문에 통상적으로 같은 일을 하는 코드는 built in 기능을 사용했을 때가 더 빠릅니다.\n"
   ]
  },
  {
   "cell_type": "markdown",
   "metadata": {},
   "source": [
    "#### **모든 멤버의 type 변환하기**\n",
    "문자열 리스트 mylist를 입력받아, 이 리스트를 정수형 리스트로 바꾼 값을 리턴하는 함수, solution을 만들어주세요. 예를 들어 mylist가 ['1', '100', '33'] 인 경우, solution 함수는 [1, 100, 33] 을 리턴하면 됩니다."
   ]
  },
  {
   "cell_type": "code",
   "execution_count": 7,
   "metadata": {},
   "outputs": [
    {
     "name": "stdout",
     "output_type": "stream",
     "text": [
      "[1, 100, 33]\n"
     ]
    }
   ],
   "source": [
    "def solution(mylist):\n",
    "    return list(map(int, mylist))\n",
    "\n",
    "if __name__ == '__main__':\n",
    "    mylist = ['1', '100', '33']\n",
    "    print(solution(mylist))"
   ]
  }
 ],
 "metadata": {
  "kernelspec": {
   "display_name": "Python 3",
   "language": "python",
   "name": "python3"
  },
  "language_info": {
   "codemirror_mode": {
    "name": "ipython",
    "version": 3
   },
   "file_extension": ".py",
   "mimetype": "text/x-python",
   "name": "python",
   "nbconvert_exporter": "python",
   "pygments_lexer": "ipython3",
   "version": "3.10.11"
  },
  "orig_nbformat": 4
 },
 "nbformat": 4,
 "nbformat_minor": 2
}
